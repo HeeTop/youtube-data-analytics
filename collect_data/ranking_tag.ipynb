{
 "cells": [
  {
   "cell_type": "markdown",
   "metadata": {},
   "source": [
    "# 1. 해당 태그를 가지는 유튜브 영상 가져오기"
   ]
  },
  {
   "cell_type": "code",
   "execution_count": 1,
   "metadata": {},
   "outputs": [],
   "source": [
    "import os\n",
    "\n",
    "import google_auth_oauthlib.flow\n",
    "import googleapiclient.discovery\n",
    "import googleapiclient.errors\n",
    "\n",
    "scopes = [ \"https://www.googleapis.com/auth/youtube\",\n",
    "\"https://www.googleapis.com/auth/youtube.force-ssl\",\n",
    "\"https://www.googleapis.com/auth/youtube.readonly\",\n",
    "\"https://www.googleapis.com/auth/youtubepartner\"]"
   ]
  },
  {
   "cell_type": "markdown",
   "metadata": {},
   "source": [
    "### Google OAuth 2.0 등록"
   ]
  },
  {
   "cell_type": "code",
   "execution_count": 2,
   "metadata": {},
   "outputs": [
    {
     "name": "stdout",
     "output_type": "stream",
     "text": [
      "Please visit this URL to authorize this application: https://accounts.google.com/o/oauth2/auth?response_type=code&client_id=699806263406-koq1jouhe37k38dvvshpu98ib9m5o53g.apps.googleusercontent.com&redirect_uri=urn%3Aietf%3Awg%3Aoauth%3A2.0%3Aoob&scope=https%3A%2F%2Fwww.googleapis.com%2Fauth%2Fyoutube+https%3A%2F%2Fwww.googleapis.com%2Fauth%2Fyoutube.force-ssl+https%3A%2F%2Fwww.googleapis.com%2Fauth%2Fyoutube.readonly+https%3A%2F%2Fwww.googleapis.com%2Fauth%2Fyoutubepartner&state=H8QGgdqht5pXgyYvsjIAx4xL4SoW8E&prompt=consent&access_type=offline\n",
      "Enter the authorization code: 4/ywGsO3vokOH6Aw_Tu4-rkTYdSrmvfLohLmsDEFOWerK2Qgceu7_gFA0\n"
     ]
    }
   ],
   "source": [
    "os.environ[\"OAUTHLIB_INSECURE_TRANSPORT\"] = \"1\"\n",
    "\n",
    "api_service_name = \"youtube\"\n",
    "api_version = \"v3\"\n",
    "client_secrets_file = \"../secret_key/client_secret.json\"\n",
    "flow = google_auth_oauthlib.flow.InstalledAppFlow.from_client_secrets_file(\n",
    "    client_secrets_file, scopes)\n",
    "credentials = flow.run_console()\n",
    "youtube = googleapiclient.discovery.build(\n",
    "    api_service_name, api_version, credentials=credentials)"
   ]
  },
  {
   "cell_type": "code",
   "execution_count": 3,
   "metadata": {},
   "outputs": [],
   "source": [
    "youtube = googleapiclient.discovery.build(\n",
    "    api_service_name, api_version, credentials=credentials)"
   ]
  },
  {
   "cell_type": "markdown",
   "metadata": {},
   "source": [
    "## opic 키워드의 상위 50개 영상 video id 가져오기"
   ]
  },
  {
   "cell_type": "code",
   "execution_count": 110,
   "metadata": {},
   "outputs": [],
   "source": [
    "MAX_RESULTS=50\n",
    "query = \"opic\"\n",
    "search_response = youtube.search().list(\n",
    "    part=\"id,snippet\",\n",
    "    q=query,\n",
    "    type='video',\n",
    "    maxResults=MAX_RESULTS,\n",
    "    pageToken='',\n",
    "  ).execute()"
   ]
  },
  {
   "cell_type": "code",
   "execution_count": 111,
   "metadata": {
    "scrolled": true
   },
   "outputs": [],
   "source": [
    "video_ids = []\n",
    "VIDEO = 'youtube#video'\n",
    "for i in range(len(search_response['items'])):\n",
    "    if search_response['items'][i]['id']['kind'] == VIDEO:\n",
    "        video_ids.append(search_response['items'][i]['id']['videoId'])"
   ]
  },
  {
   "cell_type": "code",
   "execution_count": 112,
   "metadata": {},
   "outputs": [
    {
     "data": {
      "text/plain": [
       "'FHpfb6b4jUM,Se4X7UWUpLU,_Cpn6_HjuFg,kfI2wOKhfvI,-B1tX7yZjSA'"
      ]
     },
     "execution_count": 112,
     "metadata": {},
     "output_type": "execute_result"
    }
   ],
   "source": [
    "','.join(video_ids[:5])"
   ]
  },
  {
   "cell_type": "code",
   "execution_count": 113,
   "metadata": {},
   "outputs": [
    {
     "data": {
      "text/plain": [
       "50"
      ]
     },
     "execution_count": 113,
     "metadata": {},
     "output_type": "execute_result"
    }
   ],
   "source": [
    "len(video_ids)"
   ]
  },
  {
   "cell_type": "markdown",
   "metadata": {},
   "source": [
    "## Video에 붙어있는 태그 가져오기"
   ]
  },
  {
   "cell_type": "code",
   "execution_count": 78,
   "metadata": {},
   "outputs": [],
   "source": [
    "video_response = youtube.videos().list(\n",
    "    part=\"snippet\",\n",
    "    id=','.join(video_ids),\n",
    "  ).execute()"
   ]
  },
  {
   "cell_type": "code",
   "execution_count": 87,
   "metadata": {
    "scrolled": true
   },
   "outputs": [],
   "source": [
    "tag_dict = {}\n",
    "for i in range(len(video_response['items'])):\n",
    "    if video_response['items'][i]['kind'] == VIDEO:\n",
    "        if 'tags' in video_response['items'][i]['snippet']:\n",
    "            tags = video_response['items'][i]['snippet']['tags']\n",
    "            for tag in tags:\n",
    "                if tag in tag_dict:\n",
    "                    tag_dict[tag] += 1\n",
    "                else:\n",
    "                    tag_dict[tag] = 1"
   ]
  },
  {
   "cell_type": "code",
   "execution_count": 89,
   "metadata": {},
   "outputs": [],
   "source": [
    "import pandas as pd"
   ]
  },
  {
   "cell_type": "code",
   "execution_count": 105,
   "metadata": {},
   "outputs": [],
   "source": [
    "df_tag = pd.DataFrame(list(tag_dict.items()), columns=['tag','count'])\n",
    "df_tag.sort_values(by=['count'], inplace=True, ascending=False)\n",
    "df_tag.reset_index(drop=True, inplace=True)"
   ]
  },
  {
   "cell_type": "code",
   "execution_count": 107,
   "metadata": {},
   "outputs": [],
   "source": [
    "df_tag.to_csv(\"opic_tag.csv\")"
   ]
  },
  {
   "cell_type": "markdown",
   "metadata": {},
   "source": [
    "## 함수로 만들기"
   ]
  },
  {
   "cell_type": "code",
   "execution_count": null,
   "metadata": {},
   "outputs": [],
   "source": [
    "# 기본 api 권한 설정\n",
    "import os\n",
    "\n",
    "import google_auth_oauthlib.flow\n",
    "import googleapiclient.discovery\n",
    "import googleapiclient.errors\n",
    "\n",
    "scopes = [ \"https://www.googleapis.com/auth/youtube\",\n",
    "\"https://www.googleapis.com/auth/youtube.force-ssl\",\n",
    "\"https://www.googleapis.com/auth/youtube.readonly\",\n",
    "\"https://www.googleapis.com/auth/youtubepartner\"]\n",
    "\n",
    "os.environ[\"OAUTHLIB_INSECURE_TRANSPORT\"] = \"1\"\n",
    "\n",
    "api_service_name = \"youtube\"\n",
    "api_version = \"v3\"\n",
    "client_secrets_file = \"../secret_key/client_secret.json\"\n",
    "flow = google_auth_oauthlib.flow.InstalledAppFlow.from_client_secrets_file(\n",
    "    client_secrets_file, scopes)\n",
    "credentials = flow.run_console()\n",
    "youtube = googleapiclient.discovery.build(\n",
    "    api_service_name, api_version, credentials=credentials)\n",
    "\n",
    "youtube = googleapiclient.discovery.build(\n",
    "    api_service_name, api_version, credentials=credentials)"
   ]
  },
  {
   "cell_type": "code",
   "execution_count": 115,
   "metadata": {},
   "outputs": [],
   "source": [
    "from time import sleep"
   ]
  },
  {
   "cell_type": "code",
   "execution_count": 136,
   "metadata": {},
   "outputs": [],
   "source": [
    "# 검색어의 상위 50개의 video\n",
    "def request_search(youtube, query):\n",
    "    MAX_RESULTS=50\n",
    "    sleep(0.25)\n",
    "    search_response = youtube.search().list(\n",
    "        part=\"id,snippet\",\n",
    "        q=query,\n",
    "        type='video',\n",
    "        maxResults=MAX_RESULTS,\n",
    "        pageToken='',\n",
    "      ).execute()\n",
    "\n",
    "    return search_response\n",
    "\n",
    "# 검색 결과에서 video id 뽑기\n",
    "def get_video_ids(search_response):\n",
    "    VIDEO = 'youtube#video'\n",
    "    video_ids = []\n",
    "    for i in range(len(search_response['items'])):\n",
    "        if search_response['items'][i]['id']['kind'] == VIDEO:\n",
    "            video_ids.append(search_response['items'][i]['id']['videoId'])\n",
    "\n",
    "    return video_ids\n",
    "\n",
    "# video 정보 요청\n",
    "def request_videos(video_ids):\n",
    "    sleep(0.25)\n",
    "    video_response = youtube.videos().list(\n",
    "        part=\"snippet\",\n",
    "        id=','.join(video_ids),\n",
    "    ).execute()\n",
    "    \n",
    "    return video_response\n",
    "\n",
    "\n",
    "def get_tag_counts(video_response):\n",
    "    VIDEO = 'youtube#video'\n",
    "    tag_dict = {}\n",
    "    for i in range(len(video_response['items'])):\n",
    "        if video_response['items'][i]['kind'] == VIDEO:\n",
    "            if 'tags' in video_response['items'][i]['snippet']:\n",
    "                tags = video_response['items'][i]['snippet']['tags']\n",
    "#                 count tag\n",
    "                for tag in tags:\n",
    "                    if tag in tag_dict:\n",
    "                        tag_dict[tag] += 1\n",
    "                    else:\n",
    "                        tag_dict[tag] = 1\n",
    "    tag_counts = list(tag_dict.items())\n",
    "    tag_counts.sort(key=lambda x: x[1], reverse=True)\n",
    "    \n",
    "    return tag_counts\n",
    "\n",
    "def get_tag_df(tag_counts):\n",
    "    df_tag = pd.DataFrame(tag_counts, columns=['tag','count'])\n",
    "    return df_tag"
   ]
  },
  {
   "cell_type": "code",
   "execution_count": 138,
   "metadata": {},
   "outputs": [],
   "source": [
    "search_response = request_search(youtube, '나니의 젊은이 일기')"
   ]
  },
  {
   "cell_type": "code",
   "execution_count": 139,
   "metadata": {},
   "outputs": [],
   "source": [
    "video_ids = get_video_ids(search_response)\n",
    "video_response = request_videos(video_ids)\n",
    "tag_counts = get_tag_counts(video_response)\n",
    "df_tag = get_tag_df(tag_counts)"
   ]
  },
  {
   "cell_type": "code",
   "execution_count": 143,
   "metadata": {},
   "outputs": [],
   "source": [
    "df_tag.to_csv(\"나니의 젊은이 일기 tag count.csv\")"
   ]
  },
  {
   "cell_type": "code",
   "execution_count": 146,
   "metadata": {
    "scrolled": true
   },
   "outputs": [
    {
     "data": {
      "text/plain": [
       "['D04kDsvexbM', 'HtAFAwQjOd8', 'BLRsI8x3eIY', 'e-4ZuKOgv5w', 'tLDReWJD6UE']"
      ]
     },
     "execution_count": 146,
     "metadata": {},
     "output_type": "execute_result"
    }
   ],
   "source": [
    "video_ids[:5]"
   ]
  },
  {
   "cell_type": "code",
   "execution_count": null,
   "metadata": {},
   "outputs": [],
   "source": []
  }
 ],
 "metadata": {
  "kernelspec": {
   "display_name": "Python 3",
   "language": "python",
   "name": "python3"
  },
  "language_info": {
   "codemirror_mode": {
    "name": "ipython",
    "version": 3
   },
   "file_extension": ".py",
   "mimetype": "text/x-python",
   "name": "python",
   "nbconvert_exporter": "python",
   "pygments_lexer": "ipython3",
   "version": "3.7.3"
  }
 },
 "nbformat": 4,
 "nbformat_minor": 2
}
