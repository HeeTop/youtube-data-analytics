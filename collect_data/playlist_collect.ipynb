{
 "cells": [
  {
   "cell_type": "markdown",
   "metadata": {},
   "source": [
    "## 1. [Search API](https://developers.google.com/youtube/v3/docs/search/list?apix_params=%7B%22part%22%3A%22snippet%22%2C%22channelId%22%3A%22UCw0wD0BctMf0cUHiz_jh36Q%22%7D) 를 이용해  channel의 동영상 리스트 가져오기"
   ]
  },
  {
   "cell_type": "code",
   "execution_count": 1,
   "metadata": {},
   "outputs": [],
   "source": [
    "import os\n",
    "\n",
    "import google_auth_oauthlib.flow\n",
    "import googleapiclient.discovery\n",
    "import googleapiclient.errors\n",
    "\n",
    "scopes = [ \"https://www.googleapis.com/auth/youtube\",\n",
    "\"https://www.googleapis.com/auth/youtube.force-ssl\",\n",
    "\"https://www.googleapis.com/auth/youtube.readonly\",\n",
    "\"https://www.googleapis.com/auth/youtubepartner\"]"
   ]
  },
  {
   "cell_type": "markdown",
   "metadata": {},
   "source": [
    "### Google OAuth 2.0 등록"
   ]
  },
  {
   "cell_type": "code",
   "execution_count": 2,
   "metadata": {},
   "outputs": [
    {
     "name": "stdout",
     "output_type": "stream",
     "text": [
      "Please visit this URL to authorize this application: https://accounts.google.com/o/oauth2/auth?response_type=code&client_id=699806263406-koq1jouhe37k38dvvshpu98ib9m5o53g.apps.googleusercontent.com&redirect_uri=urn%3Aietf%3Awg%3Aoauth%3A2.0%3Aoob&scope=https%3A%2F%2Fwww.googleapis.com%2Fauth%2Fyoutube+https%3A%2F%2Fwww.googleapis.com%2Fauth%2Fyoutube.force-ssl+https%3A%2F%2Fwww.googleapis.com%2Fauth%2Fyoutube.readonly+https%3A%2F%2Fwww.googleapis.com%2Fauth%2Fyoutubepartner&state=XwvOl6pDa71GFyscjLExdUs9Lz4ojP&prompt=consent&access_type=offline\n",
      "Enter the authorization code: 4/yQFMK5chAer-zBwpk0z7Bdbxc-Ln6sUp1N_Tu_X17ZrUZiQcfB4oPw0\n"
     ]
    }
   ],
   "source": [
    "os.environ[\"OAUTHLIB_INSECURE_TRANSPORT\"] = \"1\"\n",
    "\n",
    "api_service_name = \"youtube\"\n",
    "api_version = \"v3\"\n",
    "client_secrets_file = \"../secret_key/client_secret.json\"\n",
    "flow = google_auth_oauthlib.flow.InstalledAppFlow.from_client_secrets_file(\n",
    "    client_secrets_file, scopes)\n",
    "credentials = flow.run_console()\n",
    "youtube = googleapiclient.discovery.build(\n",
    "    api_service_name, api_version, credentials=credentials)"
   ]
  },
  {
   "cell_type": "code",
   "execution_count": 3,
   "metadata": {},
   "outputs": [],
   "source": [
    "youtube = googleapiclient.discovery.build(\n",
    "    api_service_name, api_version, credentials=credentials)"
   ]
  },
  {
   "cell_type": "markdown",
   "metadata": {},
   "source": [
    "## 유튜버의 업로드 동영상 리스트"
   ]
  },
  {
   "cell_type": "code",
   "execution_count": 9,
   "metadata": {},
   "outputs": [],
   "source": [
    "# channelId: N잡하는 허대리\n",
    "search_response = youtube.search().list(\n",
    "    part=\"id,snippet\",\n",
    "    channelId='UCw0wD0BctMf0cUHiz_jh36Q',\n",
    "    maxResults=50,\n",
    "    pageToken='',\n",
    "  ).execute()\n",
    "\n",
    "\n",
    "# print(response)"
   ]
  },
  {
   "cell_type": "code",
   "execution_count": 27,
   "metadata": {},
   "outputs": [],
   "source": [
    "def get_videos(channelId):\n",
    "    videos = []\n",
    "    next_page_token = ''\n",
    "    \n",
    "    i = 0\n",
    "    maxResults=50\n",
    "    while(True):\n",
    "        print(i * maxResults, ':', channelId)\n",
    "        search_response = youtube.search().list(\n",
    "            part=\"id,snippet\",\n",
    "            channelId=channelId,\n",
    "            maxResults=maxResults,\n",
    "            pageToken=next_page_token,\n",
    "          ).execute()\n",
    "        videos += search_response['items']\n",
    "        \n",
    "        if 'nextPageToken' not in search_response.keys():\n",
    "            break\n",
    "        next_page_token = search_response['nextPageToken']\n",
    "    return videos"
   ]
  },
  {
   "cell_type": "code",
   "execution_count": 33,
   "metadata": {},
   "outputs": [
    {
     "name": "stdout",
     "output_type": "stream",
     "text": [
      "0 : UCw0wD0BctMf0cUHiz_jh36Q\n"
     ]
    }
   ],
   "source": [
    "channel_videos = get_videos('UCw0wD0BctMf0cUHiz_jh36Q')"
   ]
  },
  {
   "cell_type": "code",
   "execution_count": 38,
   "metadata": {},
   "outputs": [],
   "source": [
    "videoTitle = []\n",
    "videoId = []\n",
    "\n",
    "for channel_video in channel_videos:\n",
    "    if channel_video[\"id\"][\"kind\"] == \"youtube#video\":\n",
    "        videoTitle.append(channel_video[\"snippet\"][\"title\"])\n",
    "        videoId.append(channel_video[\"id\"][\"videoId\"])"
   ]
  },
  {
   "cell_type": "markdown",
   "metadata": {},
   "source": [
    "## Videos DataFrame"
   ]
  },
  {
   "cell_type": "code",
   "execution_count": 43,
   "metadata": {},
   "outputs": [],
   "source": [
    "import pandas as pd"
   ]
  },
  {
   "cell_type": "code",
   "execution_count": 54,
   "metadata": {},
   "outputs": [],
   "source": [
    "def get_channel_video_df(channelId):\n",
    "    get_videos(channelId)\n",
    "\n",
    "    videoTitle = []\n",
    "    videoId = []\n",
    "\n",
    "    for channel_video in channel_videos:\n",
    "        if channel_video[\"id\"][\"kind\"] == \"youtube#video\":\n",
    "            videoTitle.append(channel_video[\"snippet\"][\"title\"])\n",
    "            videoId.append(channel_video[\"id\"][\"videoId\"])\n",
    "    \n",
    "    df_videos = pd.DataFrame({'videoTitle':videoTitle,'videoId': videoId})\n",
    "    df_videos['channelId'] = channelId\n",
    "    \n",
    "    return df_videos"
   ]
  },
  {
   "cell_type": "code",
   "execution_count": 56,
   "metadata": {},
   "outputs": [
    {
     "name": "stdout",
     "output_type": "stream",
     "text": [
      "0 : UCw0wD0BctMf0cUHiz_jh36Q\n"
     ]
    }
   ],
   "source": [
    "df_videos = get_channel_video_df(channelId)"
   ]
  },
  {
   "cell_type": "markdown",
   "metadata": {},
   "source": [
    "## 2. [Videos API]() 를 이용해 해당 Video의 좋아요, 조회수 등 디테일 정보 가져오기\n"
   ]
  },
  {
   "cell_type": "code",
   "execution_count": null,
   "metadata": {},
   "outputs": [],
   "source": []
  }
 ],
 "metadata": {
  "kernelspec": {
   "display_name": "Python 3",
   "language": "python",
   "name": "python3"
  },
  "language_info": {
   "codemirror_mode": {
    "name": "ipython",
    "version": 3
   },
   "file_extension": ".py",
   "mimetype": "text/x-python",
   "name": "python",
   "nbconvert_exporter": "python",
   "pygments_lexer": "ipython3",
   "version": "3.7.3"
  }
 },
 "nbformat": 4,
 "nbformat_minor": 2
}
